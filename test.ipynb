{
 "cells": [
  {
   "cell_type": "code",
   "execution_count": 12,
   "metadata": {},
   "outputs": [
    {
     "name": "stdout",
     "output_type": "stream",
     "text": [
      "k g z v n z f z ---------\n",
      "z k o c d n h z ---------\n",
      "n n v b z d i n ---------\n",
      "z x m z o ---------\n"
     ]
    }
   ],
   "source": [
    "\n",
    "string = 'pleaseke epthisme ssageins ecret'.split(' ')\n",
    "key = 'computer'\n",
    "for i in string:\n",
    "    cnt = 0\n",
    "    for char in i:\n",
    "        de_string = (ord(char) - 0x61 + ord(key[cnt])) % 26 \n",
    "        print(chr(de_string + 0x61),end=' ')\n",
    "    print('---------')"
   ]
  },
  {
   "cell_type": "code",
   "execution_count": 27,
   "metadata": {},
   "outputs": [
    {
     "name": "stdout",
     "output_type": "stream",
     "text": [
      "15\n",
      "16\n",
      "2\n",
      "5\n",
      "10\n",
      "20\n"
     ]
    }
   ],
   "source": [
    "for item in 'p q c f k u'.split(' '):\n",
    "    print(ord(item) - 0x61)"
   ]
  },
  {
   "cell_type": "code",
   "execution_count": 18,
   "metadata": {},
   "outputs": [
    {
     "name": "stdout",
     "output_type": "stream",
     "text": [
      "17\n",
      "58\n",
      "99\n"
     ]
    }
   ],
   "source": [
    "for i in range(100):\n",
    "    if (i * 29 % 41) == 1:\n",
    "        print(i)"
   ]
  }
 ],
 "metadata": {
  "kernelspec": {
   "display_name": "Python 3.10.0 64-bit",
   "language": "python",
   "name": "python3"
  },
  "language_info": {
   "codemirror_mode": {
    "name": "ipython",
    "version": 3
   },
   "file_extension": ".py",
   "mimetype": "text/x-python",
   "name": "python",
   "nbconvert_exporter": "python",
   "pygments_lexer": "ipython3",
   "version": "3.10.0"
  },
  "orig_nbformat": 4,
  "vscode": {
   "interpreter": {
    "hash": "968d6ede790a8810be6bfcaf984395687e723d377db07d7c1a491ac0381d6344"
   }
  }
 },
 "nbformat": 4,
 "nbformat_minor": 2
}
