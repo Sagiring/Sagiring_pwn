{
 "cells": [
  {
   "cell_type": "code",
   "execution_count": 1,
   "metadata": {},
   "outputs": [],
   "source": [
    "import pandas as pd"
   ]
  },
  {
   "cell_type": "code",
   "execution_count": 18,
   "metadata": {},
   "outputs": [],
   "source": [
    "with open('./data/bike_day.csv') as f:\n",
    "    pass"
   ]
  },
  {
   "cell_type": "code",
   "execution_count": 20,
   "metadata": {},
   "outputs": [
    {
     "name": "stdout",
     "output_type": "stream",
     "text": [
      "instant              1\n",
      "dteday        2011/1/1\n",
      "season               1\n",
      "yr                   0\n",
      "mnth                 1\n",
      "holiday              0\n",
      "weekday              6\n",
      "workingday           0\n",
      "weathersit           2\n",
      "temp          0.344167\n",
      "atemp         0.363625\n",
      "hum           0.805833\n",
      "windspeed     0.160446\n",
      "casual             331\n",
      "registered         654\n",
      "Name: 0, dtype: object\n",
      "     instant      dteday  season  yr  mnth  holiday  weekday  workingday  \\\n",
      "0          1    2011/1/1       1   0     1        0        6           0   \n",
      "1          2    2011/1/2       1   0     1        0        0           0   \n",
      "2          3    2011/1/3       1   0     1        0        1           1   \n",
      "3          4    2011/1/4       1   0     1        0        2           1   \n",
      "4          5    2011/1/5       1   0     1        0        3           1   \n",
      "729      730  2012/12/30       1   1    12        0        0           0   \n",
      "730      731  2012/12/31       1   1    12        0        1           1   \n",
      "\n",
      "     weathersit      temp     atemp       hum  windspeed  casual  registered  \n",
      "0             2  0.344167  0.363625  0.805833   0.160446     331         654  \n",
      "1             2  0.363478  0.353739  0.696087   0.248539     131         670  \n",
      "2             1  0.196364  0.189405  0.437273   0.248309     120        1229  \n",
      "3             1  0.200000  0.212122  0.590435   0.160296     108        1454  \n",
      "4             1  0.226957  0.229270  0.436957   0.186900      82        1518  \n",
      "729           1  0.255833  0.231700  0.483333   0.350754     364        1432  \n",
      "730           2  0.215833  0.223487  0.577500   0.154846     439        2290  \n"
     ]
    }
   ],
   "source": [
    "data = pd.read_csv(\"./data/bike_day.csv\")\n",
    "print(data.iloc[0])\n",
    "data = pd.concat([data[:5],data[len(data)-2:]])\n",
    "print(data)"
   ]
  },
  {
   "cell_type": "code",
   "execution_count": 33,
   "metadata": {},
   "outputs": [
    {
     "data": {
      "text/plain": [
       "'7'"
      ]
     },
     "execution_count": 33,
     "metadata": {},
     "output_type": "execute_result"
    }
   ],
   "source": [
    "s = \"1234567\"\n",
    "s[-1]"
   ]
  }
 ],
 "metadata": {
  "kernelspec": {
   "display_name": ".venv",
   "language": "python",
   "name": "python3"
  },
  "language_info": {
   "codemirror_mode": {
    "name": "ipython",
    "version": 3
   },
   "file_extension": ".py",
   "mimetype": "text/x-python",
   "name": "python",
   "nbconvert_exporter": "python",
   "pygments_lexer": "ipython3",
   "version": "3.10.9"
  },
  "orig_nbformat": 4,
  "vscode": {
   "interpreter": {
    "hash": "9fbff0ffc423d21adb14bd22453b01a71c1d67b3e3274932120dfd3007b3ff96"
   }
  }
 },
 "nbformat": 4,
 "nbformat_minor": 2
}
