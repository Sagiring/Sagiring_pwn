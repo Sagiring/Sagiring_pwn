{
 "cells": [
  {
   "cell_type": "code",
   "execution_count": 24,
   "metadata": {},
   "outputs": [],
   "source": [
    "import csv"
   ]
  },
  {
   "cell_type": "code",
   "execution_count": 62,
   "metadata": {},
   "outputs": [
    {
     "name": "stdout",
     "output_type": "stream",
     "text": [
      "这里是笨笨的bot的指南（更新中）\n",
      "---1.问()答()---\n",
      "---2.b站热搜---\n",
      "---3.更新b站热搜---\n",
      "---4.拍一拍回话---\n",
      "---5.bot今天吃什么---\n",
      "---6.bot关机---\n",
      "---7.微博热搜(开发中)---\n",
      "---8.bot说(可空)----\n",
      "---9.删除词条(开发中)---\n",
      "---PS 关键词叠起来可能会有坏事发生---\n"
     ]
    }
   ],
   "source": [
    "import random\n",
    "path = 'E:\\Study\\Py\\OCR_bot\\\\help.txt'\n",
    "with open(path,'r',encoding='utf-8',newline='')as f:\n",
    "    content = f.read()\n",
    "    print(content)\n",
    "            \n",
    "            \n",
    "               "
   ]
  },
  {
   "cell_type": "code",
   "execution_count": 22,
   "metadata": {},
   "outputs": [],
   "source": [
    "from PIL import ImageGrab "
   ]
  },
  {
   "cell_type": "code",
   "execution_count": 23,
   "metadata": {},
   "outputs": [],
   "source": [
    "pic_user = ImageGrab.grab(bbox=(460, 430, 1050,520))\n",
    "pic_user.show()\n"
   ]
  },
  {
   "cell_type": "code",
   "execution_count": 21,
   "metadata": {},
   "outputs": [
    {
     "data": {
      "text/plain": [
       "False"
      ]
     },
     "execution_count": 21,
     "metadata": {},
     "output_type": "execute_result"
    }
   ],
   "source": [
    "a = 'b站热搜'\n",
    "a[4:].isdigit()"
   ]
  },
  {
   "cell_type": "code",
   "execution_count": 15,
   "metadata": {},
   "outputs": [
    {
     "data": {
      "text/plain": [
       "20"
      ]
     },
     "execution_count": 15,
     "metadata": {},
     "output_type": "execute_result"
    }
   ],
   "source": [
    "int(a[4:])"
   ]
  },
  {
   "cell_type": "code",
   "execution_count": null,
   "metadata": {},
   "outputs": [],
   "source": []
  }
 ],
 "metadata": {
  "kernelspec": {
   "display_name": "Python 3.10.0 64-bit",
   "language": "python",
   "name": "python3"
  },
  "language_info": {
   "codemirror_mode": {
    "name": "ipython",
    "version": 3
   },
   "file_extension": ".py",
   "mimetype": "text/x-python",
   "name": "python",
   "nbconvert_exporter": "python",
   "pygments_lexer": "ipython3",
   "version": "3.10.0"
  },
  "orig_nbformat": 4,
  "vscode": {
   "interpreter": {
    "hash": "968d6ede790a8810be6bfcaf984395687e723d377db07d7c1a491ac0381d6344"
   }
  }
 },
 "nbformat": 4,
 "nbformat_minor": 2
}
