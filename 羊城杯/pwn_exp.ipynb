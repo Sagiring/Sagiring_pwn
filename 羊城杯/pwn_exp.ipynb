{
 "cells": [
  {
   "cell_type": "code",
   "execution_count": 7,
   "metadata": {},
   "outputs": [],
   "source": [
    "from pwn import * \n",
    "context(arch='amd64',os = 'linux', log_level='DEBUG')"
   ]
  },
  {
   "cell_type": "code",
   "execution_count": 11,
   "metadata": {},
   "outputs": [
    {
     "name": "stdout",
     "output_type": "stream",
     "text": [
      "[ERROR] Could not find 'as' installed for ContextType(arch = 'amd64', bits = 64, endian = 'little', log_level = 10, os = 'linux')\n",
      "    Try installing binutils for this architecture:\n",
      "    https://docs.pwntools.com/en/stable/install/binutils.html\n"
     ]
    },
    {
     "ename": "PwnlibException",
     "evalue": "Could not find 'as' installed for ContextType(arch = 'amd64', bits = 64, endian = 'little', log_level = 10, os = 'linux')\nTry installing binutils for this architecture:\nhttps://docs.pwntools.com/en/stable/install/binutils.html",
     "output_type": "error",
     "traceback": [
      "\u001b[1;31m---------------------------------------------------------------------------\u001b[0m",
      "\u001b[1;31mPwnlibException\u001b[0m                           Traceback (most recent call last)",
      "\u001b[1;32me:\\Study_code\\Sagiring_pwn\\羊城杯\\pwn_exp.ipynb 单元格 2\u001b[0m in \u001b[0;36m<cell line: 1>\u001b[1;34m()\u001b[0m\n\u001b[1;32m----> <a href='vscode-notebook-cell:/e%3A/Study_code/Sagiring_pwn/%E7%BE%8A%E5%9F%8E%E6%9D%AF/pwn_exp.ipynb#W1sZmlsZQ%3D%3D?line=0'>1</a>\u001b[0m asm(\u001b[39m'''\u001b[39;49m\u001b[39msyscall\u001b[39;49m\u001b[39m'''\u001b[39;49m)\n",
      "File \u001b[1;32mc:\\Users\\sagiriking\\AppData\\Local\\Programs\\Python\\Python310\\lib\\site-packages\\pwnlib\\context\\__init__.py:1577\u001b[0m, in \u001b[0;36mLocalContext.<locals>.setter\u001b[1;34m(*a, **kw)\u001b[0m\n\u001b[0;32m   1574\u001b[0m \u001b[39mif\u001b[39;00m arch \u001b[39min\u001b[39;00m (\u001b[39m'\u001b[39m\u001b[39mi386\u001b[39m\u001b[39m'\u001b[39m, \u001b[39m'\u001b[39m\u001b[39mamd64\u001b[39m\u001b[39m'\u001b[39m) \u001b[39mand\u001b[39;00m endian \u001b[39m==\u001b[39m \u001b[39m'\u001b[39m\u001b[39mbig\u001b[39m\u001b[39m'\u001b[39m:\n\u001b[0;32m   1575\u001b[0m     \u001b[39mraise\u001b[39;00m \u001b[39mAttributeError\u001b[39;00m(\u001b[39m\"\u001b[39m\u001b[39mInvalid arch/endianness combination: \u001b[39m\u001b[39m%s\u001b[39;00m\u001b[39m/\u001b[39m\u001b[39m%s\u001b[39;00m\u001b[39m\"\u001b[39m \u001b[39m%\u001b[39m (arch, endian))\n\u001b[1;32m-> 1577\u001b[0m \u001b[39mreturn\u001b[39;00m function(\u001b[39m*\u001b[39ma, \u001b[39m*\u001b[39m\u001b[39m*\u001b[39mkw)\n",
      "File \u001b[1;32mc:\\Users\\sagiriking\\AppData\\Local\\Programs\\Python\\Python310\\lib\\site-packages\\pwnlib\\asm.py:667\u001b[0m, in \u001b[0;36masm\u001b[1;34m(shellcode, vma, extract, shared)\u001b[0m\n\u001b[0;32m    629\u001b[0m \u001b[39mr\u001b[39m\u001b[39m\"\"\"asm(code, vma = 0, extract = True, shared = False, ...) -> str\u001b[39;00m\n\u001b[0;32m    630\u001b[0m \n\u001b[0;32m    631\u001b[0m \u001b[39mRuns :func:`cpp` over a given shellcode and then assembles it into bytes.\u001b[39;00m\n\u001b[1;32m   (...)\u001b[0m\n\u001b[0;32m    663\u001b[0m \u001b[39m    b'A\\x00\\x00*'\u001b[39;00m\n\u001b[0;32m    664\u001b[0m \u001b[39m\"\"\"\u001b[39;00m\n\u001b[0;32m    665\u001b[0m result \u001b[39m=\u001b[39m \u001b[39m'\u001b[39m\u001b[39m'\u001b[39m\n\u001b[1;32m--> 667\u001b[0m assembler \u001b[39m=\u001b[39m _assembler()\n\u001b[0;32m    668\u001b[0m linker    \u001b[39m=\u001b[39m _linker()\n\u001b[0;32m    669\u001b[0m objcopy   \u001b[39m=\u001b[39m _objcopy() \u001b[39m+\u001b[39m [\u001b[39m'\u001b[39m\u001b[39m-j\u001b[39m\u001b[39m'\u001b[39m, \u001b[39m'\u001b[39m\u001b[39m.shellcode\u001b[39m\u001b[39m'\u001b[39m, \u001b[39m'\u001b[39m\u001b[39m-Obinary\u001b[39m\u001b[39m'\u001b[39m]\n",
      "File \u001b[1;32mc:\\Users\\sagiriking\\AppData\\Local\\Programs\\Python\\Python310\\lib\\site-packages\\pwnlib\\asm.py:217\u001b[0m, in \u001b[0;36m_assembler\u001b[1;34m()\u001b[0m\n\u001b[0;32m    216\u001b[0m \u001b[39mdef\u001b[39;00m \u001b[39m_assembler\u001b[39m():\n\u001b[1;32m--> 217\u001b[0m     gas \u001b[39m=\u001b[39m which_binutils(\u001b[39m'\u001b[39;49m\u001b[39mas\u001b[39;49m\u001b[39m'\u001b[39;49m)\n\u001b[0;32m    219\u001b[0m     E \u001b[39m=\u001b[39m {\n\u001b[0;32m    220\u001b[0m         \u001b[39m'\u001b[39m\u001b[39mbig\u001b[39m\u001b[39m'\u001b[39m:    \u001b[39m'\u001b[39m\u001b[39m-EB\u001b[39m\u001b[39m'\u001b[39m,\n\u001b[0;32m    221\u001b[0m         \u001b[39m'\u001b[39m\u001b[39mlittle\u001b[39m\u001b[39m'\u001b[39m: \u001b[39m'\u001b[39m\u001b[39m-EL\u001b[39m\u001b[39m'\u001b[39m\n\u001b[0;32m    222\u001b[0m     }[context\u001b[39m.\u001b[39mendianness]\n\u001b[0;32m    224\u001b[0m     B \u001b[39m=\u001b[39m \u001b[39m'\u001b[39m\u001b[39m-\u001b[39m\u001b[39m%s\u001b[39;00m\u001b[39m'\u001b[39m \u001b[39m%\u001b[39m context\u001b[39m.\u001b[39mbits\n",
      "File \u001b[1;32mc:\\Users\\sagiriking\\AppData\\Local\\Programs\\Python\\Python310\\lib\\site-packages\\pwnlib\\context\\__init__.py:1577\u001b[0m, in \u001b[0;36mLocalContext.<locals>.setter\u001b[1;34m(*a, **kw)\u001b[0m\n\u001b[0;32m   1574\u001b[0m \u001b[39mif\u001b[39;00m arch \u001b[39min\u001b[39;00m (\u001b[39m'\u001b[39m\u001b[39mi386\u001b[39m\u001b[39m'\u001b[39m, \u001b[39m'\u001b[39m\u001b[39mamd64\u001b[39m\u001b[39m'\u001b[39m) \u001b[39mand\u001b[39;00m endian \u001b[39m==\u001b[39m \u001b[39m'\u001b[39m\u001b[39mbig\u001b[39m\u001b[39m'\u001b[39m:\n\u001b[0;32m   1575\u001b[0m     \u001b[39mraise\u001b[39;00m \u001b[39mAttributeError\u001b[39;00m(\u001b[39m\"\u001b[39m\u001b[39mInvalid arch/endianness combination: \u001b[39m\u001b[39m%s\u001b[39;00m\u001b[39m/\u001b[39m\u001b[39m%s\u001b[39;00m\u001b[39m\"\u001b[39m \u001b[39m%\u001b[39m (arch, endian))\n\u001b[1;32m-> 1577\u001b[0m \u001b[39mreturn\u001b[39;00m function(\u001b[39m*\u001b[39ma, \u001b[39m*\u001b[39m\u001b[39m*\u001b[39mkw)\n",
      "File \u001b[1;32mc:\\Users\\sagiriking\\AppData\\Local\\Programs\\Python\\Python310\\lib\\site-packages\\pwnlib\\asm.py:212\u001b[0m, in \u001b[0;36mwhich_binutils\u001b[1;34m(util)\u001b[0m\n\u001b[0;32m    209\u001b[0m                     \u001b[39mreturn\u001b[39;00m res[\u001b[39m0\u001b[39m]\n\u001b[0;32m    211\u001b[0m \u001b[39m# No dice!\u001b[39;00m\n\u001b[1;32m--> 212\u001b[0m print_binutils_instructions(util, context)\n",
      "File \u001b[1;32mc:\\Users\\sagiriking\\AppData\\Local\\Programs\\Python\\Python310\\lib\\site-packages\\pwnlib\\asm.py:133\u001b[0m, in \u001b[0;36mprint_binutils_instructions\u001b[1;34m(util, context)\u001b[0m\n\u001b[0;32m    130\u001b[0m     \u001b[39mif\u001b[39;00m packages:\n\u001b[0;32m    131\u001b[0m         instructions \u001b[39m=\u001b[39m \u001b[39m'\u001b[39m\u001b[39m$ sudo apt-get install \u001b[39m\u001b[39m%s\u001b[39;00m\u001b[39m'\u001b[39m \u001b[39m%\u001b[39m packages[\u001b[39m0\u001b[39m]\n\u001b[1;32m--> 133\u001b[0m     log\u001b[39m.\u001b[39;49merror(\u001b[39m\"\"\"\u001b[39;49m\n\u001b[0;32m    134\u001b[0m \u001b[39mCould not find \u001b[39;49m\u001b[39m%(util)r\u001b[39;49;00m\u001b[39m installed for \u001b[39;49m\u001b[39m%(context)s\u001b[39;49;00m\n\u001b[0;32m    135\u001b[0m \u001b[39mTry installing binutils for this architecture:\u001b[39;49m\n\u001b[0;32m    136\u001b[0m \u001b[39m%(instructions)s\u001b[39;49;00m\n\u001b[0;32m    137\u001b[0m \u001b[39m\"\"\"\u001b[39;49m\u001b[39m.\u001b[39;49mstrip() \u001b[39m%\u001b[39;49m \u001b[39mlocals\u001b[39;49m())\n",
      "File \u001b[1;32mc:\\Users\\sagiriking\\AppData\\Local\\Programs\\Python\\Python310\\lib\\site-packages\\pwnlib\\log.py:424\u001b[0m, in \u001b[0;36mLogger.error\u001b[1;34m(self, message, *args, **kwargs)\u001b[0m\n\u001b[0;32m    417\u001b[0m \u001b[39m\"\"\"error(message, *args, **kwargs)\u001b[39;00m\n\u001b[0;32m    418\u001b[0m \n\u001b[0;32m    419\u001b[0m \u001b[39mTo be called outside an exception handler.\u001b[39;00m\n\u001b[0;32m    420\u001b[0m \n\u001b[0;32m    421\u001b[0m \u001b[39mLogs an error message, then raises a ``PwnlibException``.\u001b[39;00m\n\u001b[0;32m    422\u001b[0m \u001b[39m\"\"\"\u001b[39;00m\n\u001b[0;32m    423\u001b[0m \u001b[39mself\u001b[39m\u001b[39m.\u001b[39m_log(logging\u001b[39m.\u001b[39mERROR, message, args, kwargs, \u001b[39m'\u001b[39m\u001b[39merror\u001b[39m\u001b[39m'\u001b[39m)\n\u001b[1;32m--> 424\u001b[0m \u001b[39mraise\u001b[39;00m PwnlibException(message \u001b[39m%\u001b[39m args)\n",
      "\u001b[1;31mPwnlibException\u001b[0m: Could not find 'as' installed for ContextType(arch = 'amd64', bits = 64, endian = 'little', log_level = 10, os = 'linux')\nTry installing binutils for this architecture:\nhttps://docs.pwntools.com/en/stable/install/binutils.html"
     ]
    }
   ],
   "source": [
    "asm('''syscall''')"
   ]
  }
 ],
 "metadata": {
  "kernelspec": {
   "display_name": "Python 3",
   "language": "python",
   "name": "python3"
  },
  "language_info": {
   "codemirror_mode": {
    "name": "ipython",
    "version": 3
   },
   "file_extension": ".py",
   "mimetype": "text/x-python",
   "name": "python",
   "nbconvert_exporter": "python",
   "pygments_lexer": "ipython3",
   "version": "3.10.0"
  },
  "orig_nbformat": 4
 },
 "nbformat": 4,
 "nbformat_minor": 2
}
